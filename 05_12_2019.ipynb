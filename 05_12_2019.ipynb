{
  "nbformat": 4,
  "nbformat_minor": 0,
  "metadata": {
    "colab": {
      "name": "05-12-2019",
      "provenance": []
    },
    "kernelspec": {
      "name": "python3",
      "display_name": "Python 3"
    }
  },
  "cells": [
    {
      "cell_type": "code",
      "metadata": {
        "id": "rXg_1uARKJVy",
        "colab_type": "code",
        "colab": {}
      },
      "source": [
        ""
      ],
      "execution_count": 0,
      "outputs": []
    },
    {
      "cell_type": "code",
      "metadata": {
        "id": "gEKDvIKzKRAn",
        "colab_type": "code",
        "outputId": "cef2e550-62c2-4695-f3eb-b0f79f7bd4cd",
        "colab": {
          "base_uri": "https://localhost:8080/",
          "height": 84
        }
      },
      "source": [
        "#basic list Functions\n",
        "li = [1,9,16,25,5]\n",
        "print(max(li))\n",
        "print(min(li))\n",
        "print(sum(li))\n",
        "print(sum(li)//len(li))"
      ],
      "execution_count": 0,
      "outputs": [
        {
          "output_type": "stream",
          "text": [
            "25\n",
            "1\n",
            "56\n",
            "11\n"
          ],
          "name": "stdout"
        }
      ]
    },
    {
      "cell_type": "code",
      "metadata": {
        "id": "0k0Cq2J9Ma2h",
        "colab_type": "code",
        "outputId": "aaef9252-737c-45fe-cd9f-b38f40e5ef72",
        "colab": {
          "base_uri": "https://localhost:8080/",
          "height": 34
        }
      },
      "source": [
        "li = [1,9,16,25,5]\n",
        "li.append(29) #add the new items at the edd\n",
        "li.insert(2,56)#add new item\n",
        "li"
      ],
      "execution_count": 0,
      "outputs": [
        {
          "output_type": "execute_result",
          "data": {
            "text/plain": [
              "[1, 9, 56, 16, 25, 5, 29]"
            ]
          },
          "metadata": {
            "tags": []
          },
          "execution_count": 7
        }
      ]
    },
    {
      "cell_type": "code",
      "metadata": {
        "id": "OYi_6wJCMubJ",
        "colab_type": "code",
        "outputId": "06188682-125e-4a07-c665-9aaa44936c7e",
        "colab": {
          "base_uri": "https://localhost:8080/",
          "height": 34
        }
      },
      "source": [
        "li.sort()\n",
        "li"
      ],
      "execution_count": 0,
      "outputs": [
        {
          "output_type": "execute_result",
          "data": {
            "text/plain": [
              "[1, 5, 9, 16, 25, 29, 56]"
            ]
          },
          "metadata": {
            "tags": []
          },
          "execution_count": 8
        }
      ]
    },
    {
      "cell_type": "code",
      "metadata": {
        "id": "dvhdU5t1OTGp",
        "colab_type": "code",
        "outputId": "3c9dc9fb-0412-42d6-eb5e-7436ec1caefe",
        "colab": {
          "base_uri": "https://localhost:8080/",
          "height": 34
        }
      },
      "source": [
        "li = [1,9,16,25,5]\n",
        "\n",
        "li.pop()\n",
        "\n",
        "li"
      ],
      "execution_count": 0,
      "outputs": [
        {
          "output_type": "execute_result",
          "data": {
            "text/plain": [
              "[1, 9, 16, 25]"
            ]
          },
          "metadata": {
            "tags": []
          },
          "execution_count": 11
        }
      ]
    },
    {
      "cell_type": "code",
      "metadata": {
        "colab_type": "code",
        "outputId": "aaef9252-737c-45fe-cd9f-b38f40e5ef72",
        "id": "fzBL0zKcOyL6",
        "colab": {
          "base_uri": "https://localhost:8080/",
          "height": 33
        }
      },
      "source": [
        "\n",
        "li.append(29) #add the new items at the edd\n",
        "li.insert(2,56)#add new item\n",
        "li"
      ],
      "execution_count": 0,
      "outputs": [
        {
          "output_type": "execute_result",
          "data": {
            "text/plain": [
              "[1, 9, 56, 16, 25, 5, 29]"
            ]
          },
          "metadata": {
            "tags": []
          },
          "execution_count": 7
        }
      ]
    },
    {
      "cell_type": "code",
      "metadata": {
        "id": "fhIE5n51Oex-",
        "colab_type": "code",
        "outputId": "608f565d-97c1-4fc5-84af-17e73e291f9a",
        "colab": {
          "base_uri": "https://localhost:8080/",
          "height": 34
        }
      },
      "source": [
        "\n",
        "li.pop(1)\n",
        "li"
      ],
      "execution_count": 0,
      "outputs": [
        {
          "output_type": "execute_result",
          "data": {
            "text/plain": [
              "[1, 16, 25, 5]"
            ]
          },
          "metadata": {
            "tags": []
          },
          "execution_count": 12
        }
      ]
    },
    {
      "cell_type": "code",
      "metadata": {
        "id": "wjN5R6tEPXlZ",
        "colab_type": "code",
        "outputId": "d149ff45-7e61-4fb0-f4b0-5796c4c28cfe",
        "colab": {
          "base_uri": "https://localhost:8080/",
          "height": 34
        }
      },
      "source": [
        "\n",
        "\n",
        "li"
      ],
      "execution_count": 0,
      "outputs": [
        {
          "output_type": "execute_result",
          "data": {
            "text/plain": [
              "[1, 9, 16, 25, 5, 1, 9, 16, 25, 5]"
            ]
          },
          "metadata": {
            "tags": []
          },
          "execution_count": 16
        }
      ]
    },
    {
      "cell_type": "code",
      "metadata": {
        "id": "9dUR_GZ6QPgZ",
        "colab_type": "code",
        "outputId": "b6f577c2-84df-42f9-80e0-9fc1f09ea0f1",
        "colab": {
          "base_uri": "https://localhost:8080/",
          "height": 34
        }
      },
      "source": [
        "li1 = [1,9,16,25,5]\n",
        "li.extend(li1)\n",
        "li1.reverse()\n",
        "li1\n",
        "\n",
        "\n"
      ],
      "execution_count": 0,
      "outputs": [
        {
          "output_type": "execute_result",
          "data": {
            "text/plain": [
              "[5, 25, 16, 9, 1]"
            ]
          },
          "metadata": {
            "tags": []
          },
          "execution_count": 17
        }
      ]
    },
    {
      "cell_type": "code",
      "metadata": {
        "id": "fKzHGyoYRLsj",
        "colab_type": "code",
        "outputId": "44e8fb4a-e930-4ca2-ee9f-58b3e7c8f311",
        "colab": {
          "base_uri": "https://localhost:8080/",
          "height": 50
        }
      },
      "source": [
        "def largeNumber(li):\n",
        "  li.sort()\n",
        "  return li[-1]\n",
        "def genericlarge(li,n):\n",
        "  li.sort()\n",
        "  return li[-n]\n",
        "li = [19,1,25,6,9,456,22] \n",
        "print(largeNumber(li))\n",
        "print(genericlarge(li,3))   "
      ],
      "execution_count": 0,
      "outputs": [
        {
          "output_type": "stream",
          "text": [
            "456\n",
            "22\n"
          ],
          "name": "stdout"
        }
      ]
    },
    {
      "cell_type": "code",
      "metadata": {
        "id": "WKpTc_-gVlWy",
        "colab_type": "code",
        "outputId": "3e3d1107-6731-4e2f-c758-c250f5ffe97d",
        "colab": {
          "base_uri": "https://localhost:8080/",
          "height": 50
        }
      },
      "source": [
        "def largeNumber(li):\n",
        "  li.sort()\n",
        "  return li[0]\n",
        "def genericlarge(li,n):\n",
        "  li.sort()\n",
        "  return li[n-1]\n",
        "li = [19,1,25,6,9,456,22] \n",
        "print(largeNumber(li))\n",
        "print(genericlarge(li,3))   "
      ],
      "execution_count": 0,
      "outputs": [
        {
          "output_type": "stream",
          "text": [
            "1\n",
            "9\n"
          ],
          "name": "stdout"
        }
      ]
    },
    {
      "cell_type": "markdown",
      "metadata": {
        "id": "fA8fUZJ0Y5fw",
        "colab_type": "text"
      },
      "source": [
        "### Tuples\n",
        "- praenthesis() --->Tuple and square brackets[]----> list\n",
        "-list are mutable - can be changed / modifided\n",
        "-used to acces and modify,add,delate data\n",
        "-tuple are immutable - cannot be changed\n",
        "-used to access data only"
      ]
    },
    {
      "cell_type": "code",
      "metadata": {
        "id": "4EvmyFhQaN5Y",
        "colab_type": "code",
        "outputId": "e34b0080-18ff-4a34-f82f-40059b8b0dd3",
        "colab": {
          "base_uri": "https://localhost:8080/",
          "height": 34
        }
      },
      "source": [
        "t1 = (1,2,3,4,5,6)\n",
        "t1\n",
        "print(type(t1),t1[1:5])"
      ],
      "execution_count": 0,
      "outputs": [
        {
          "output_type": "stream",
          "text": [
            "<class 'tuple'> (2, 3, 4, 5)\n"
          ],
          "name": "stdout"
        }
      ]
    },
    {
      "cell_type": "code",
      "metadata": {
        "id": "26ELLRWsYciO",
        "colab_type": "code",
        "colab": {}
      },
      "source": [
        ""
      ],
      "execution_count": 0,
      "outputs": []
    },
    {
      "cell_type": "markdown",
      "metadata": {
        "id": "znAH_i7sb9ZI",
        "colab_type": "text"
      },
      "source": [
        "### Dictionaries\n",
        "1. it works on the concept of set uniqe Data\n",
        "2. keys,values is thew unique identifier for value\n",
        "3. Eavh key is seperated from its values with colon(:)\n",
        "4. Each key and value is saparated with comma(,)\n",
        "5. Dictionaries enchanes with curly braces({})"
      ]
    },
    {
      "cell_type": "code",
      "metadata": {
        "id": "KM87HWkSdXZh",
        "colab_type": "code",
        "outputId": "d5742275-5cae-47fb-f630-b799b8ed3274",
        "colab": {
          "base_uri": "https://localhost:8080/",
          "height": 67
        }
      },
      "source": [
        "d1 = {\"Name\":\"madhu\",\"Email id\": \"madhuvana0719@gmail.com\",\"Address\":\"srikakulam\"}\n",
        "d1"
      ],
      "execution_count": 0,
      "outputs": [
        {
          "output_type": "execute_result",
          "data": {
            "text/plain": [
              "{'Address': 'srikakulam',\n",
              " 'Email id': 'madhuvana0719@gmail.com',\n",
              " 'Name': 'madhu'}"
            ]
          },
          "metadata": {
            "tags": []
          },
          "execution_count": 29
        }
      ]
    },
    {
      "cell_type": "code",
      "metadata": {
        "id": "OfBLSWTReOnv",
        "colab_type": "code",
        "outputId": "b0259505-a1b8-4911-c791-60509670968c",
        "colab": {
          "base_uri": "https://localhost:8080/",
          "height": 34
        }
      },
      "source": [
        "d1[\"name\"]"
      ],
      "execution_count": 0,
      "outputs": [
        {
          "output_type": "execute_result",
          "data": {
            "text/plain": [
              "'madhu'"
            ]
          },
          "metadata": {
            "tags": []
          },
          "execution_count": 27
        }
      ]
    },
    {
      "cell_type": "code",
      "metadata": {
        "id": "wkOaYU2oereO",
        "colab_type": "code",
        "outputId": "6014338b-544c-49fa-84d8-6355127fbee4",
        "colab": {
          "base_uri": "https://localhost:8080/",
          "height": 84
        }
      },
      "source": [
        "d1[\"course\"] = \"python\"\n",
        "d1"
      ],
      "execution_count": 0,
      "outputs": [
        {
          "output_type": "execute_result",
          "data": {
            "text/plain": [
              "{'Address': 'srikakulam',\n",
              " 'Email id': 'madhuvana0719@gmail.com',\n",
              " 'Name': 'madhu',\n",
              " 'course': 'python'}"
            ]
          },
          "metadata": {
            "tags": []
          },
          "execution_count": 32
        }
      ]
    },
    {
      "cell_type": "code",
      "metadata": {
        "id": "koBTNwpBfWZw",
        "colab_type": "code",
        "outputId": "1cd156ff-34f3-4b9f-9a67-a503b1c74f91",
        "colab": {
          "base_uri": "https://localhost:8080/",
          "height": 34
        }
      },
      "source": [
        "d1.keys()"
      ],
      "execution_count": 0,
      "outputs": [
        {
          "output_type": "execute_result",
          "data": {
            "text/plain": [
              "dict_keys(['Name', 'Email id', 'Address', 'course'])"
            ]
          },
          "metadata": {
            "tags": []
          },
          "execution_count": 33
        }
      ]
    },
    {
      "cell_type": "code",
      "metadata": {
        "id": "b2Di3ATxgipg",
        "colab_type": "code",
        "outputId": "6111b2b3-8a6f-4672-8c15-036de8433f65",
        "colab": {
          "base_uri": "https://localhost:8080/",
          "height": 34
        }
      },
      "source": [
        "d1.values()"
      ],
      "execution_count": 0,
      "outputs": [
        {
          "output_type": "execute_result",
          "data": {
            "text/plain": [
              "dict_values(['madhu', 'madhuvana0719@gmail.com', 'srikakulam', 'python'])"
            ]
          },
          "metadata": {
            "tags": []
          },
          "execution_count": 34
        }
      ]
    },
    {
      "cell_type": "code",
      "metadata": {
        "id": "3jkHE3ziglZG",
        "colab_type": "code",
        "outputId": "cbd0b99b-86ef-4150-a7bb-21fea7d114d1",
        "colab": {
          "base_uri": "https://localhost:8080/",
          "height": 54
        }
      },
      "source": [
        "d1.items()"
      ],
      "execution_count": 0,
      "outputs": [
        {
          "output_type": "execute_result",
          "data": {
            "text/plain": [
              "dict_items([('Name', 'madhu'), ('Email id', 'madhuvana0719@gmail.com'), ('Address', 'srikakulam'), ('course', 'python')])"
            ]
          },
          "metadata": {
            "tags": []
          },
          "execution_count": 35
        }
      ]
    },
    {
      "cell_type": "code",
      "metadata": {
        "id": "HAQGNSZlgpPW",
        "colab_type": "code",
        "colab": {}
      },
      "source": [
        ""
      ],
      "execution_count": 0,
      "outputs": []
    },
    {
      "cell_type": "markdown",
      "metadata": {
        "id": "nno9sZp1hrtK",
        "colab_type": "text"
      },
      "source": [
        "###Strings:\n",
        "- String\n",
        "- String slicings\n",
        "- Fundamental programming with string in python\n"
      ]
    },
    {
      "cell_type": "code",
      "metadata": {
        "id": "7Neh8eRnicDZ",
        "colab_type": "code",
        "outputId": "5c138253-6032-4ac6-ba5a-f3eed3f875cc",
        "colab": {
          "base_uri": "https://localhost:8080/",
          "height": 50
        }
      },
      "source": [
        "s1 = 'python'\n",
        "print(s1)\n",
        "print(type(s1))"
      ],
      "execution_count": 0,
      "outputs": [
        {
          "output_type": "stream",
          "text": [
            "python\n",
            "<class 'str'>\n"
          ],
          "name": "stdout"
        }
      ]
    },
    {
      "cell_type": "code",
      "metadata": {
        "id": "aEiqCHIaiqFC",
        "colab_type": "code",
        "outputId": "57e4d683-ed50-4452-e484-88ba8a75331a",
        "colab": {
          "base_uri": "https://localhost:8080/",
          "height": 84
        }
      },
      "source": [
        "s1 = 'vmadhu'\n",
        "print(s1[0])\n",
        "print(s1[1])\n",
        "print(s1[5])\n",
        "print(s1[len(s1)-1])"
      ],
      "execution_count": 0,
      "outputs": [
        {
          "output_type": "stream",
          "text": [
            "v\n",
            "m\n",
            "u\n",
            "u\n"
          ],
          "name": "stdout"
        }
      ]
    },
    {
      "cell_type": "code",
      "metadata": {
        "id": "B5KqVg-4jLaX",
        "colab_type": "code",
        "outputId": "27d52add-886e-4dfb-f98a-6dbb63e536bd",
        "colab": {
          "base_uri": "https://localhost:8080/",
          "height": 118
        }
      },
      "source": [
        "s1 = 'python'\n",
        "print(s1[-1])\n",
        "print(s1[-2])\n",
        "print(s1[0:2])\n",
        "print(s1[:2])\n",
        "print(s1[-3:])\n",
        "print(s1[2:])\n"
      ],
      "execution_count": 0,
      "outputs": [
        {
          "output_type": "stream",
          "text": [
            "n\n",
            "o\n",
            "py\n",
            "py\n",
            "hon\n",
            "thon\n"
          ],
          "name": "stdout"
        }
      ]
    },
    {
      "cell_type": "code",
      "metadata": {
        "id": "psIw1S8XkYRG",
        "colab_type": "code",
        "outputId": "d423cb17-8c0e-45d9-9900-200c98bf7119",
        "colab": {
          "base_uri": "https://localhost:8080/",
          "height": 134
        }
      },
      "source": [
        "print(s1[1:-1])\n",
        "print(s1[len(s1)//2])\n",
        "print(s1[-1::-1])\n",
        "print(s1[-1:-3:-1])\n",
        "print(s1[::2])\n",
        "print(s1[::3])\n",
        "print(s1[::-2])"
      ],
      "execution_count": 0,
      "outputs": [
        {
          "output_type": "stream",
          "text": [
            "ytho\n",
            "h\n",
            "nohtyp\n",
            "no\n",
            "pto\n",
            "ph\n",
            "nhy\n"
          ],
          "name": "stdout"
        }
      ]
    },
    {
      "cell_type": "code",
      "metadata": {
        "id": "AVYWLfbHlhru",
        "colab_type": "code",
        "outputId": "30f9e123-3f35-4585-8aa1-481eea55f66b",
        "colab": {
          "base_uri": "https://localhost:8080/",
          "height": 34
        }
      },
      "source": [
        "\n",
        "def reversestring(str):\n",
        "    return str[-1::-1]\n",
        "reversestring(\"vmadhu\")"
      ],
      "execution_count": 0,
      "outputs": [
        {
          "output_type": "execute_result",
          "data": {
            "text/plain": [
              "'uhdamv'"
            ]
          },
          "metadata": {
            "tags": []
          },
          "execution_count": 43
        }
      ]
    },
    {
      "cell_type": "code",
      "metadata": {
        "id": "PisJ7qfvoZSQ",
        "colab_type": "code",
        "outputId": "ec558801-a6e4-4b28-87bd-2406ce641155",
        "colab": {
          "base_uri": "https://localhost:8080/",
          "height": 50
        }
      },
      "source": [
        "def ispalindrome(str):\n",
        "    if str == str[::-1]:\n",
        "       return True\n",
        "    else:  \n",
        "       return False\n",
        "    return\n",
        "print(ispalindrome(\"python\")) \n",
        "print(ispalindrome(\"ganag\"))      "
      ],
      "execution_count": 0,
      "outputs": [
        {
          "output_type": "stream",
          "text": [
            "False\n",
            "True\n"
          ],
          "name": "stdout"
        }
      ]
    },
    {
      "cell_type": "code",
      "metadata": {
        "id": "uoLjDyFbpqZv",
        "colab_type": "code",
        "outputId": "2bc5320e-eccf-498b-b083-4e882dae8f80",
        "colab": {
          "base_uri": "https://localhost:8080/",
          "height": 50
        }
      },
      "source": [
        "s1 = 'python'\n",
        "print(s1.upper())\n",
        "print(s1.lower())"
      ],
      "execution_count": 0,
      "outputs": [
        {
          "output_type": "stream",
          "text": [
            "PYTHON\n",
            "python\n"
          ],
          "name": "stdout"
        }
      ]
    },
    {
      "cell_type": "code",
      "metadata": {
        "id": "_qwmMdPBrqvZ",
        "colab_type": "code",
        "outputId": "bc0712a7-06c0-4aec-8249-4ba25bdd6f81",
        "colab": {
          "base_uri": "https://localhost:8080/",
          "height": 118
        }
      },
      "source": [
        "s1=\"python\"\n",
        "print(s1.islower())\n",
        "print(s1.isupper())\n",
        "print(s1.istitle())\n",
        "print(s1.isnumeric())\n",
        "print(s1.isalpha())\n",
        "print(s1.isspace())"
      ],
      "execution_count": 0,
      "outputs": [
        {
          "output_type": "stream",
          "text": [
            "True\n",
            "False\n",
            "False\n",
            "False\n",
            "True\n",
            "False\n"
          ],
          "name": "stdout"
        }
      ]
    },
    {
      "cell_type": "code",
      "metadata": {
        "id": "GokblVjIs7Dz",
        "colab_type": "code",
        "colab": {}
      },
      "source": [
        ""
      ],
      "execution_count": 0,
      "outputs": []
    },
    {
      "cell_type": "markdown",
      "metadata": {
        "id": "pCwLQaVGtzpU",
        "colab_type": "text"
      },
      "source": [
        "## String methods\n",
        "- joint()--method will concatinates the two strings\n",
        "- split()--splits()returns the list of strings separated by whitespace(no prameter)\n",
        "- replace-- the spesific word/character with new word or character"
      ]
    },
    {
      "cell_type": "code",
      "metadata": {
        "id": "Pjhn21Oou9hj",
        "colab_type": "code",
        "outputId": "9db81206-1430-4674-cbfc-db79789b3a55",
        "colab": {
          "base_uri": "https://localhost:8080/",
          "height": 34
        }
      },
      "source": [
        "s1=\"python\"\n",
        "print(\"\".join(s1))"
      ],
      "execution_count": 0,
      "outputs": [
        {
          "output_type": "stream",
          "text": [
            "python\n"
          ],
          "name": "stdout"
        }
      ]
    },
    {
      "cell_type": "code",
      "metadata": {
        "id": "FzH2kiMxu2aV",
        "colab_type": "code",
        "outputId": "246c349e-9957-4e21-979b-afe6147c16a1",
        "colab": {
          "base_uri": "https://localhost:8080/",
          "height": 34
        }
      },
      "source": [
        "s2=[\"python\",\"programming\",\"learn\"]\n",
        "print(\",\".join(s2))"
      ],
      "execution_count": 0,
      "outputs": [
        {
          "output_type": "stream",
          "text": [
            "python,programming,learn\n"
          ],
          "name": "stdout"
        }
      ]
    },
    {
      "cell_type": "code",
      "metadata": {
        "id": "W1meiq5uvu2e",
        "colab_type": "code",
        "outputId": "0a6a1b09-1c25-410b-9e18-61a07c832814",
        "colab": {
          "base_uri": "https://localhost:8080/",
          "height": 34
        }
      },
      "source": [
        "s2=\"python programing is easy to learn\"\n",
        "print(s2.split(\"a\"))"
      ],
      "execution_count": 0,
      "outputs": [
        {
          "output_type": "stream",
          "text": [
            "['python progr', 'ming is e', 'sy to le', 'rn']\n"
          ],
          "name": "stdout"
        }
      ]
    },
    {
      "cell_type": "code",
      "metadata": {
        "id": "vIgEXJZTwwki",
        "colab_type": "code",
        "outputId": "dc0c0fe8-7889-452a-8de2-2072ef2e8772",
        "colab": {
          "base_uri": "https://localhost:8080/",
          "height": 34
        }
      },
      "source": [
        "s2=\"python programing is easy to learn\"\n",
        "print(s2.split())"
      ],
      "execution_count": 0,
      "outputs": [
        {
          "output_type": "stream",
          "text": [
            "['python', 'programing', 'is', 'easy', 'to', 'learn']\n"
          ],
          "name": "stdout"
        }
      ]
    },
    {
      "cell_type": "code",
      "metadata": {
        "id": "TOGtFGJOxD0A",
        "colab_type": "code",
        "outputId": "620bc025-9265-4492-ee73-836b0bc8c2ae",
        "colab": {
          "base_uri": "https://localhost:8080/",
          "height": 67
        }
      },
      "source": [
        "s2=\"python programing is easy to learn\"\n",
        "print(len(s2))\n",
        "li=s2.split()\n",
        "print(li)\n",
        "print(len(li))"
      ],
      "execution_count": 0,
      "outputs": [
        {
          "output_type": "stream",
          "text": [
            "34\n",
            "['python', 'programing', 'is', 'easy', 'to', 'learn']\n",
            "6\n"
          ],
          "name": "stdout"
        }
      ]
    },
    {
      "cell_type": "code",
      "metadata": {
        "id": "yzqDvXTbxlOx",
        "colab_type": "code",
        "outputId": "e7bbdf76-420f-4311-bb89-d9cd63e580d9",
        "colab": {
          "base_uri": "https://localhost:8080/",
          "height": 54
        }
      },
      "source": [
        "s2=\"python programing is easy to learn\"\n",
        "li=list(s2)\n",
        "print(li)"
      ],
      "execution_count": 0,
      "outputs": [
        {
          "output_type": "stream",
          "text": [
            "['p', 'y', 't', 'h', 'o', 'n', ' ', 'p', 'r', 'o', 'g', 'r', 'a', 'm', 'i', 'n', 'g', ' ', 'i', 's', ' ', 'e', 'a', 's', 'y', ' ', 't', 'o', ' ', 'l', 'e', 'a', 'r', 'n']\n"
          ],
          "name": "stdout"
        }
      ]
    },
    {
      "cell_type": "code",
      "metadata": {
        "id": "6VlCW9Zxx1IE",
        "colab_type": "code",
        "colab": {}
      },
      "source": [
        ""
      ],
      "execution_count": 0,
      "outputs": []
    }
  ]
}