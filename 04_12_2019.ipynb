{
  "nbformat": 4,
  "nbformat_minor": 0,
  "metadata": {
    "colab": {
      "name": "04-12-2019",
      "provenance": []
    },
    "kernelspec": {
      "name": "python3",
      "display_name": "Python 3"
    }
  },
  "cells": [
    {
      "cell_type": "code",
      "metadata": {
        "id": "hjXIRE4QAlmk",
        "colab_type": "code",
        "colab": {}
      },
      "source": [
        ""
      ],
      "execution_count": 0,
      "outputs": []
    },
    {
      "cell_type": "markdown",
      "metadata": {
        "id": "69wuoxKbAxXY",
        "colab_type": "text"
      },
      "source": [
        "### Functional programing\n",
        "1. simple\n",
        "2. easy to understand\n",
        "3. better reuseabitity\n",
        "4. length of program will be divided in to sub program\n",
        "\n"
      ]
    },
    {
      "cell_type": "code",
      "metadata": {
        "id": "-N2l5ts1CO3u",
        "colab_type": "code",
        "colab": {}
      },
      "source": [
        "def nameofFunction(<parameters>)\n",
        "statements\n",
        "return\n"
      ],
      "execution_count": 0,
      "outputs": []
    },
    {
      "cell_type": "code",
      "metadata": {
        "id": "6Jk-iUaADo4e",
        "colab_type": "code",
        "colab": {
          "base_uri": "https://localhost:8080/",
          "height": 33
        },
        "outputId": "afce4c14-fe2a-4dcd-c1cf-14013a4bec29"
      },
      "source": [
        "\n",
        "\n",
        "def evenDigitsum(n):\n",
        "    s=0\n",
        "    while n != 0:\n",
        "       r=n%10\n",
        "       if r%2==0:\n",
        "          s = s + r\n",
        "       n = n // 10\n",
        "    return s \n",
        "evenDigitsum(1234)"
      ],
      "execution_count": 18,
      "outputs": [
        {
          "output_type": "execute_result",
          "data": {
            "text/plain": [
              "6"
            ]
          },
          "metadata": {
            "tags": []
          },
          "execution_count": 18
        }
      ]
    },
    {
      "cell_type": "code",
      "metadata": {
        "id": "Lg3jG-KhHkDv",
        "colab_type": "code",
        "colab": {
          "base_uri": "https://localhost:8080/",
          "height": 50
        },
        "outputId": "46e09ce0-5f3f-4480-db6e-b504e2ffb60e"
      },
      "source": [
        "def square(x):\n",
        "    print(x*x)\n",
        "print(square(4))    \n"
      ],
      "execution_count": 20,
      "outputs": [
        {
          "output_type": "stream",
          "text": [
            "16\n",
            "None\n"
          ],
          "name": "stdout"
        }
      ]
    },
    {
      "cell_type": "code",
      "metadata": {
        "id": "FHBnhQEyILum",
        "colab_type": "code",
        "colab": {
          "base_uri": "https://localhost:8080/",
          "height": 33
        },
        "outputId": "fd8dd77a-ed31-458f-bac9-ef1a5edaa803"
      },
      "source": [
        "def square(x):\n",
        "    return x*x\n",
        "square(3)    "
      ],
      "execution_count": 21,
      "outputs": [
        {
          "output_type": "execute_result",
          "data": {
            "text/plain": [
              "9"
            ]
          },
          "metadata": {
            "tags": []
          },
          "execution_count": 21
        }
      ]
    },
    {
      "cell_type": "code",
      "metadata": {
        "id": "3XXZnhr9IjWl",
        "colab_type": "code",
        "colab": {
          "base_uri": "https://localhost:8080/",
          "height": 50
        },
        "outputId": "1b125b23-8b9a-4c00-db4a-be9cd317b8a5"
      },
      "source": [
        "def cube(x):\n",
        "    print(x*x*x)\n",
        "print( cube(4)  ) "
      ],
      "execution_count": 23,
      "outputs": [
        {
          "output_type": "stream",
          "text": [
            "64\n",
            "None\n"
          ],
          "name": "stdout"
        }
      ]
    },
    {
      "cell_type": "code",
      "metadata": {
        "id": "05w8XmgLJR8-",
        "colab_type": "code",
        "colab": {
          "base_uri": "https://localhost:8080/",
          "height": 67
        },
        "outputId": "db45439a-7cb0-4a04-f132-b05004ed7530"
      },
      "source": [
        "def multiply(x=2,y=4):\n",
        "    print(\"value of x\",x)\n",
        "    print(\"value of y\",y)\n",
        "    return(x*y)\n",
        "print(multiply(y=2,x=4))    "
      ],
      "execution_count": 26,
      "outputs": [
        {
          "output_type": "stream",
          "text": [
            "value of x 4\n",
            "value of y 2\n",
            "8\n"
          ],
          "name": "stdout"
        }
      ]
    },
    {
      "cell_type": "code",
      "metadata": {
        "id": "0PEUBivKGyR2",
        "colab_type": "code",
        "colab": {
          "base_uri": "https://localhost:8080/",
          "height": 33
        },
        "outputId": "4b1ab363-f8ab-4e48-bd08-2dcb052d2721"
      },
      "source": [
        "# swap value\n",
        "def swap(x=2,y=3):\n",
        "    temp = x\n",
        "    x=y\n",
        "    y = temp\n",
        "    return x,y\n",
        "swap(x,y) \n"
      ],
      "execution_count": 30,
      "outputs": [
        {
          "output_type": "execute_result",
          "data": {
            "text/plain": [
              "(3, 2)"
            ]
          },
          "metadata": {
            "tags": []
          },
          "execution_count": 30
        }
      ]
    },
    {
      "cell_type": "code",
      "metadata": {
        "id": "m-FZmQBMOwdh",
        "colab_type": "code",
        "colab": {
          "base_uri": "https://localhost:8080/",
          "height": 33
        },
        "outputId": "649e74b3-ac36-4618-a087-ff96c3d96777"
      },
      "source": [
        "def largeDigit(n):\n",
        "    large = 0\n",
        "    while n!=0:\n",
        "      r=n%10\n",
        "      if large < r:\n",
        "          large = r\n",
        "      n=n//10\n",
        "    return large\n",
        "largeDigit(19535)          "
      ],
      "execution_count": 32,
      "outputs": [
        {
          "output_type": "execute_result",
          "data": {
            "text/plain": [
              "9"
            ]
          },
          "metadata": {
            "tags": []
          },
          "execution_count": 32
        }
      ]
    },
    {
      "cell_type": "markdown",
      "metadata": {
        "id": "ldmqup4kSbuw",
        "colab_type": "text"
      },
      "source": [
        "## For loop\n",
        "##### syntax1;\n",
        "for i in range (start,stop,step):\n",
        "> statements\n",
        "##### syntax2:\n",
        "for i in Iterableobject:\n",
        "> statements"
      ]
    },
    {
      "cell_type": "code",
      "metadata": {
        "id": "PXaE64PhTZC-",
        "colab_type": "code",
        "colab": {
          "base_uri": "https://localhost:8080/",
          "height": 33
        },
        "outputId": "ea89365b-6d2f-431a-bf92-6746db6b86c3"
      },
      "source": [
        "# Function to print a prime number btw two limites\n",
        "\n",
        "def printseries(lb,ub):\n",
        "    for x in range(lb,ub+1):\n",
        "         print(x,end = '')\n",
        "    return\n",
        "printseries(1,10)    "
      ],
      "execution_count": 34,
      "outputs": [
        {
          "output_type": "stream",
          "text": [
            "12345678910"
          ],
          "name": "stdout"
        }
      ]
    },
    {
      "cell_type": "markdown",
      "metadata": {
        "id": "fJ1p6EuIWBB-",
        "colab_type": "text"
      },
      "source": [
        "## Collection types:\n",
        "# 1. list\n",
        "2. tuple\n",
        "3. set\n",
        "4. Dictionary  \n"
      ]
    },
    {
      "cell_type": "markdown",
      "metadata": {
        "id": "bFii6y0SWsSu",
        "colab_type": "text"
      },
      "source": [
        "#### List:\n",
        "- one of the data structure in python\n",
        "- data strudture means to store , sort and search options\n",
        "- IT's ome common data structure in python, the items of list seperated by comma and enclosed in square brackets"
      ]
    },
    {
      "cell_type": "markdown",
      "metadata": {
        "id": "LqlD3TC0XytW",
        "colab_type": "text"
      },
      "source": [
        "### Exemple:\n",
        "-list1=[1,2,3,4,5]\n",
        "-list2=['Gitam',1,2]"
      ]
    },
    {
      "cell_type": "markdown",
      "metadata": {
        "id": "SD7MyXdEYQmP",
        "colab_type": "text"
      },
      "source": [
        ""
      ]
    },
    {
      "cell_type": "code",
      "metadata": {
        "id": "XKcDk5OvYd5n",
        "colab_type": "code",
        "colab": {
          "base_uri": "https://localhost:8080/",
          "height": 134
        },
        "outputId": "499492f4-7d26-4753-daba-a2ed4c4ed0b8"
      },
      "source": [
        "li = [1,8,16,9,2]\n",
        "print(li)#wil print all the list items\n",
        "print(li[0])\n",
        "print(li[1])\n",
        "print(li[-5])\n",
        "print(li[1:])\n",
        "print(li[1:4])\n",
        "print(li[-4:-1])"
      ],
      "execution_count": 48,
      "outputs": [
        {
          "output_type": "stream",
          "text": [
            "[1, 8, 16, 9, 2]\n",
            "1\n",
            "8\n",
            "1\n",
            "[8, 16, 9, 2]\n",
            "[8, 16, 9]\n",
            "[8, 16, 9]\n"
          ],
          "name": "stdout"
        }
      ]
    },
    {
      "cell_type": "code",
      "metadata": {
        "id": "wLiLzVa9bP3J",
        "colab_type": "code",
        "colab": {
          "base_uri": "https://localhost:8080/",
          "height": 50
        },
        "outputId": "91cba9c0-fefe-4267-8fb9-71bb92dbeef9"
      },
      "source": [
        "li = ['gitam',1234,'hyd']\n",
        "print(li)\n",
        "li[1] = 456\n",
        "print(li)"
      ],
      "execution_count": 49,
      "outputs": [
        {
          "output_type": "stream",
          "text": [
            "['gitam', 1234, 'hyd']\n",
            "['gitam', 456, 'hyd']\n"
          ],
          "name": "stdout"
        }
      ]
    }
  ]
}