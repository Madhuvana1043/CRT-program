{
  "nbformat": 4,
  "nbformat_minor": 0,
  "metadata": {
    "colab": {
      "name": "(03\\12\\19)",
      "provenance": []
    },
    "kernelspec": {
      "name": "python3",
      "display_name": "Python 3"
    }
  },
  "cells": [
    {
      "cell_type": "markdown",
      "metadata": {
        "id": "69y316PH8QEF",
        "colab_type": "text"
      },
      "source": [
        "#Introduction to phyton\n"
      ]
    },
    {
      "cell_type": "markdown",
      "metadata": {
        "id": "5oyzJaTk9q8c",
        "colab_type": "text"
      },
      "source": [
        "#markdown\n",
        "##markdown\n",
        "###markdown\n",
        "#markdown\n",
        "### insert a image\n",
        "![text](https://previews.123rf.com/images/anastasyao1/anastasyao11705/anastasyao1170500110/78616187-road-to-nature4.jpg)\n",
        "### for creating orderd text\n",
        "1.abc\n",
        "2.efg\n",
        "###**bold and single*italic text\n",
        "\n"
      ]
    },
    {
      "cell_type": "markdown",
      "metadata": {
        "id": "JFCLz5-kIKWN",
        "colab_type": "text"
      },
      "source": [
        "###fundamental of data types\n"
      ]
    },
    {
      "cell_type": "code",
      "metadata": {
        "id": "qq8AV9bjDP9n",
        "colab_type": "code",
        "outputId": "d7bed3c5-908c-456e-b408-4e0e6f9081f3",
        "colab": {
          "base_uri": "https://localhost:8080/",
          "height": 34
        }
      },
      "source": [
        "print(\"hello world\")"
      ],
      "execution_count": 0,
      "outputs": [
        {
          "output_type": "stream",
          "text": [
            "hello world\n"
          ],
          "name": "stdout"
        }
      ]
    },
    {
      "cell_type": "markdown",
      "metadata": {
        "id": "3Y1OgEgjDwo3",
        "colab_type": "text"
      },
      "source": [
        "#variable creation\n",
        "a=10\n",
        "b=10\n",
        "a+b"
      ]
    },
    {
      "cell_type": "code",
      "metadata": {
        "id": "Suw8eyZIEPk9",
        "colab_type": "code",
        "outputId": "3d4ba84c-847a-45b7-b121-1ca79962096b",
        "colab": {
          "base_uri": "https://localhost:8080/",
          "height": 34
        }
      },
      "source": [
        "# variable creation\n",
        "a=10\n",
        "b=10\n",
        "a+b"
      ],
      "execution_count": 0,
      "outputs": [
        {
          "output_type": "execute_result",
          "data": {
            "text/plain": [
              "20"
            ]
          },
          "metadata": {
            "tags": []
          },
          "execution_count": 6
        }
      ]
    },
    {
      "cell_type": "code",
      "metadata": {
        "id": "JFtMpGkyEhtM",
        "colab_type": "code",
        "outputId": "383b783d-ec3e-4dc6-81c8-575a8699fbeb",
        "colab": {
          "base_uri": "https://localhost:8080/",
          "height": 34
        }
      },
      "source": [
        "name =\"gitam\"\n",
        "print(\"university\"+name)"
      ],
      "execution_count": 0,
      "outputs": [
        {
          "output_type": "stream",
          "text": [
            "universitygitam\n"
          ],
          "name": "stdout"
        }
      ]
    },
    {
      "cell_type": "code",
      "metadata": {
        "id": "qC-5wfmnE46V",
        "colab_type": "code",
        "outputId": "677613eb-1be0-4e2e-b93f-f24ca3444cfa",
        "colab": {
          "base_uri": "https://localhost:8080/",
          "height": 67
        }
      },
      "source": [
        "name=input(\"enter a name\")\n",
        "age =int(input(\"enter age\"))\n",
        "print (\"my name is :\",name,\"my age is:\",age)"
      ],
      "execution_count": 0,
      "outputs": [
        {
          "output_type": "stream",
          "text": [
            "enter a namemadhu\n",
            "enter age20\n",
            "my name is : madhu my age is: 20\n"
          ],
          "name": "stdout"
        }
      ]
    },
    {
      "cell_type": "code",
      "metadata": {
        "id": "7UP6--6E8Zh8",
        "colab_type": "code",
        "outputId": "99ffb7da-06a1-47f1-f559-b2e256d8ef49",
        "colab": {
          "base_uri": "https://localhost:8080/",
          "height": 34
        }
      },
      "source": [
        "print(\"welcome to phyton\")"
      ],
      "execution_count": 0,
      "outputs": [
        {
          "output_type": "stream",
          "text": [
            "welcome to phyton\n"
          ],
          "name": "stdout"
        }
      ]
    },
    {
      "cell_type": "code",
      "metadata": {
        "id": "U5Y7fr3a8lc0",
        "colab_type": "code",
        "outputId": "3a476dab-ccc5-4787-b1a2-9820e6cb50c6",
        "colab": {
          "base_uri": "https://localhost:8080/",
          "height": 34
        }
      },
      "source": [
        "x=123465\n",
        "print(x)"
      ],
      "execution_count": 0,
      "outputs": [
        {
          "output_type": "stream",
          "text": [
            "123465\n"
          ],
          "name": "stdout"
        }
      ]
    },
    {
      "cell_type": "code",
      "metadata": {
        "id": "9QG4MxrlGTPc",
        "colab_type": "code",
        "colab": {}
      },
      "source": [
        ""
      ],
      "execution_count": 0,
      "outputs": []
    },
    {
      "cell_type": "markdown",
      "metadata": {
        "id": "KMYKfVRPGWs9",
        "colab_type": "text"
      },
      "source": [
        "# take two inputs and do the following arithmatic operation\n"
      ]
    },
    {
      "cell_type": "code",
      "metadata": {
        "id": "U4aZKuCxGjFE",
        "colab_type": "code",
        "outputId": "28e7697c-776f-4cf0-d57f-933a94933ace",
        "colab": {
          "base_uri": "https://localhost:8080/",
          "height": 118
        }
      },
      "source": [
        "a=int(input(\"enter first number\"))\n",
        "b=int(input(\"enter a second number\"))\n",
        "c=a+b\n",
        "d=a-b\n",
        "e=a/b\n",
        "f=a*b\n",
        "print(c)\n",
        "print(d)\n",
        "print(e)\n",
        "print(f)"
      ],
      "execution_count": 0,
      "outputs": [
        {
          "output_type": "stream",
          "text": [
            "enter first number8\n",
            "enter a second number9\n",
            "17\n",
            "-1\n",
            "0.8888888888888888\n",
            "72\n"
          ],
          "name": "stdout"
        }
      ]
    },
    {
      "cell_type": "code",
      "metadata": {
        "id": "VY_mY99uIomt",
        "colab_type": "code",
        "outputId": "7fbcddbb-d3ff-44f5-f3e6-dbaafc661bd4",
        "colab": {
          "base_uri": "https://localhost:8080/",
          "height": 34
        }
      },
      "source": [
        "a=10\n",
        "b=12.05\n",
        "c=2+3j\n",
        "print(type(a),type(b),type(c))\n"
      ],
      "execution_count": 0,
      "outputs": [
        {
          "output_type": "stream",
          "text": [
            "<class 'int'> <class 'float'> <class 'complex'>\n"
          ],
          "name": "stdout"
        }
      ]
    },
    {
      "cell_type": "code",
      "metadata": {
        "id": "-Pgcti7xJrzG",
        "colab_type": "code",
        "outputId": "1c2f25c0-674c-4256-9f82-ae703b563e6c",
        "colab": {
          "base_uri": "https://localhost:8080/",
          "height": 34
        }
      },
      "source": [
        "c=complex(3,4)\n",
        "print(c)"
      ],
      "execution_count": 0,
      "outputs": [
        {
          "output_type": "stream",
          "text": [
            "(3+4j)\n"
          ],
          "name": "stdout"
        }
      ]
    },
    {
      "cell_type": "code",
      "metadata": {
        "id": "9kaX1rsUJ-4a",
        "colab_type": "code",
        "outputId": "4899cde2-0c27-452a-e4a3-aa240b51c023",
        "colab": {
          "base_uri": "https://localhost:8080/",
          "height": 67
        }
      },
      "source": [
        "c1=3+5j\n",
        "c2=7+8j\n",
        "print(c1+c2)\n",
        "print(c1-c2)\n",
        "print(c1*c2)"
      ],
      "execution_count": 0,
      "outputs": [
        {
          "output_type": "stream",
          "text": [
            "(10+13j)\n",
            "(-4-3j)\n",
            "(-19+59j)\n"
          ],
          "name": "stdout"
        }
      ]
    },
    {
      "cell_type": "markdown",
      "metadata": {
        "id": "DiUDI20WKka9",
        "colab_type": "text"
      },
      "source": [
        "##boolean"
      ]
    },
    {
      "cell_type": "code",
      "metadata": {
        "id": "iSnuGRE5Kocx",
        "colab_type": "code",
        "outputId": "ee9c81e5-7462-4175-85d3-f31b3e923dbd",
        "colab": {
          "base_uri": "https://localhost:8080/",
          "height": 34
        }
      },
      "source": [
        "a=10\n",
        "b=20\n",
        "a>b\n"
      ],
      "execution_count": 0,
      "outputs": [
        {
          "output_type": "execute_result",
          "data": {
            "text/plain": [
              "False"
            ]
          },
          "metadata": {
            "tags": []
          },
          "execution_count": 13
        }
      ]
    },
    {
      "cell_type": "code",
      "metadata": {
        "id": "Vi44A2whK9zd",
        "colab_type": "code",
        "outputId": "d880e7d9-b088-432f-df87-aaac1386bbe6",
        "colab": {
          "base_uri": "https://localhost:8080/",
          "height": 34
        }
      },
      "source": [
        "s1=\"abc\"\n",
        "s2=\"xyz\"\n",
        "print(type(s1),type(s2))"
      ],
      "execution_count": 0,
      "outputs": [
        {
          "output_type": "stream",
          "text": [
            "<class 'str'> <class 'str'>\n"
          ],
          "name": "stdout"
        }
      ]
    },
    {
      "cell_type": "code",
      "metadata": {
        "id": "ng15gk7cLuRt",
        "colab_type": "code",
        "outputId": "9aed7c66-7f92-4cf9-ebc6-ae6b270bea8f",
        "colab": {
          "base_uri": "https://localhost:8080/",
          "height": 84
        }
      },
      "source": [
        "s1=\"100\"\n",
        "print(type(s1))\n",
        "a=int(s1)\n",
        "print(type(a))\n",
        "f=1.5\n",
        "a1=int(f)\n",
        "print(type(a1))\n",
        "print(a1)"
      ],
      "execution_count": 0,
      "outputs": [
        {
          "output_type": "stream",
          "text": [
            "<class 'str'>\n",
            "<class 'int'>\n",
            "<class 'int'>\n",
            "1\n"
          ],
          "name": "stdout"
        }
      ]
    },
    {
      "cell_type": "code",
      "metadata": {
        "id": "aPBAsNL4Nvy6",
        "colab_type": "code",
        "outputId": "3b73c437-398d-4799-913d-5da948b35c17",
        "colab": {
          "base_uri": "https://localhost:8080/",
          "height": 34
        }
      },
      "source": [
        "a1=1234\n",
        "print(len(str(a1)))"
      ],
      "execution_count": 0,
      "outputs": [
        {
          "output_type": "stream",
          "text": [
            "4\n"
          ],
          "name": "stdout"
        }
      ]
    },
    {
      "cell_type": "code",
      "metadata": {
        "id": "THVl8amfOAK-",
        "colab_type": "code",
        "outputId": "4702d5ce-c97d-4da3-df1e-eaf7dbf10b53",
        "colab": {
          "base_uri": "https://localhost:8080/",
          "height": 128
        }
      },
      "source": [
        "### opetators\n",
        "1. arithmatic operator --->+,_,*,%.//,**\n",
        "2. logical operator --->and,or,not\n",
        "3. relational operator ---><,>,<=,>=,==,!=\n",
        "4. Membership operator ---> in,notin"
      ],
      "execution_count": 0,
      "outputs": [
        {
          "output_type": "error",
          "ename": "SyntaxError",
          "evalue": "ignored",
          "traceback": [
            "\u001b[0;36m  File \u001b[0;32m\"<ipython-input-19-ffeb36fc82dd>\"\u001b[0;36m, line \u001b[0;32m1\u001b[0m\n\u001b[0;31m    1. arithmatic operator --->+,_,*,%.//,**\u001b[0m\n\u001b[0m                ^\u001b[0m\n\u001b[0;31mSyntaxError\u001b[0m\u001b[0;31m:\u001b[0m invalid syntax\n"
          ]
        }
      ]
    },
    {
      "cell_type": "code",
      "metadata": {
        "id": "xeSgnlxfQIFe",
        "colab_type": "code",
        "outputId": "c78e3b0c-6785-4603-d57c-cb22f398e1f5",
        "colab": {
          "base_uri": "https://localhost:8080/",
          "height": 168
        }
      },
      "source": [
        "n1= 12\n",
        "n2= 21\n",
        "print(n1-n2)\n",
        "print(n1+n2)\n",
        "print(n1*n2)\n",
        "print(n1/n2)\n",
        "print(n1**n2)\n",
        "print(n1!=n2)\n",
        "print(n1>n2)\n",
        "print(n1//n2)\n",
        "print(n1<n2)\n"
      ],
      "execution_count": 0,
      "outputs": [
        {
          "output_type": "stream",
          "text": [
            "-9\n",
            "33\n",
            "252\n",
            "0.5714285714285714\n",
            "46005119909369701466112\n",
            "True\n",
            "False\n",
            "0\n",
            "True\n"
          ],
          "name": "stdout"
        }
      ]
    },
    {
      "cell_type": "code",
      "metadata": {
        "id": "g2gVnGeURZQe",
        "colab_type": "code",
        "colab": {}
      },
      "source": [
        ""
      ],
      "execution_count": 0,
      "outputs": []
    },
    {
      "cell_type": "markdown",
      "metadata": {
        "id": "20ehhxNhRa8m",
        "colab_type": "text"
      },
      "source": [
        "# relational operayor"
      ]
    },
    {
      "cell_type": "code",
      "metadata": {
        "id": "o6oiT_i-Re_n",
        "colab_type": "code",
        "outputId": "955d1ba5-a27e-4ca3-a588-c62b17353d6f",
        "colab": {
          "base_uri": "https://localhost:8080/",
          "height": 84
        }
      },
      "source": [
        "print(n1==n2)\n",
        "print(n1!=n2)\n",
        "print(n1>n2)\n",
        "print(n1>n2)"
      ],
      "execution_count": 0,
      "outputs": [
        {
          "output_type": "stream",
          "text": [
            "False\n",
            "True\n",
            "False\n",
            "False\n"
          ],
          "name": "stdout"
        }
      ]
    },
    {
      "cell_type": "markdown",
      "metadata": {
        "id": "kyWbtsN1R3Wv",
        "colab_type": "text"
      },
      "source": [
        "# logical opetator\n"
      ]
    },
    {
      "cell_type": "code",
      "metadata": {
        "id": "2tmsdIF7R9cX",
        "colab_type": "code",
        "outputId": "36f67f09-52d8-434f-e120-7f0859af8daa",
        "colab": {
          "base_uri": "https://localhost:8080/",
          "height": 67
        }
      },
      "source": [
        "print(n1>=10 and n1<=20)\n",
        "print(n1>=10 or n1<=20)\n",
        "print(not n1)"
      ],
      "execution_count": 0,
      "outputs": [
        {
          "output_type": "stream",
          "text": [
            "True\n",
            "True\n",
            "False\n"
          ],
          "name": "stdout"
        }
      ]
    },
    {
      "cell_type": "code",
      "metadata": {
        "id": "yJC5kKQSUhae",
        "colab_type": "code",
        "colab": {}
      },
      "source": [
        ""
      ],
      "execution_count": 0,
      "outputs": []
    },
    {
      "cell_type": "markdown",
      "metadata": {
        "id": "J0zTcg79VWgp",
        "colab_type": "text"
      },
      "source": [
        ""
      ]
    },
    {
      "cell_type": "code",
      "metadata": {
        "id": "6I3vvrgaVaxw",
        "colab_type": "code",
        "colab": {}
      },
      "source": [
        ""
      ],
      "execution_count": 0,
      "outputs": []
    },
    {
      "cell_type": "markdown",
      "metadata": {
        "id": "bD3laKHEVbkG",
        "colab_type": "text"
      },
      "source": [
        "#probleam onrelation operator \n",
        "TAKE TWO NUMBERS ABD DO THE FOLLOWING OPERATION"
      ]
    },
    {
      "cell_type": "code",
      "metadata": {
        "id": "HBI9SgWVV0Ko",
        "colab_type": "code",
        "outputId": "2ed35110-0e52-468b-d49b-6967fb142893",
        "colab": {
          "base_uri": "https://localhost:8080/",
          "height": 151
        }
      },
      "source": [
        "a=int(input(\"enter a first number\"))\n",
        "b=int(input(\"enter a second number\"))\n",
        "print(a<b)\n",
        "print(a>b)\n",
        "print(a==b)\n",
        "print(a<=b)\n",
        "print(a>=b)\n",
        "print(a!=b)"
      ],
      "execution_count": 0,
      "outputs": [
        {
          "output_type": "stream",
          "text": [
            "enter a first number13\n",
            "enter a second number15\n",
            "True\n",
            "False\n",
            "False\n",
            "True\n",
            "False\n",
            "True\n"
          ],
          "name": "stdout"
        }
      ]
    },
    {
      "cell_type": "markdown",
      "metadata": {
        "id": "D0bm3OjLXcy3",
        "colab_type": "text"
      },
      "source": [
        "# membership operator\n",
        "## --true if value found in sequence\n",
        "### not in --if value not found in sequence"
      ]
    },
    {
      "cell_type": "code",
      "metadata": {
        "id": "0zQu6xs-YHgI",
        "colab_type": "code",
        "outputId": "e6d051a5-1560-4822-8fba-1f8d55d4ec23",
        "colab": {
          "base_uri": "https://localhost:8080/",
          "height": 67
        }
      },
      "source": [
        "f= [1,2,3,4]\n",
        "print(1 in f)\n",
        "print(5in f)\n",
        "print(6 not 4in f)"
      ],
      "execution_count": 0,
      "outputs": [
        {
          "output_type": "stream",
          "text": [
            "True\n",
            "False\n",
            "True\n"
          ],
          "name": "stdout"
        }
      ]
    },
    {
      "cell_type": "markdown",
      "metadata": {
        "id": "B0nQDd1WZSWI",
        "colab_type": "text"
      },
      "source": [
        "## conditional statements\n",
        "1. if\n",
        "2. else\n",
        "3. elif\n",
        "## syntax:\n",
        "##### if condition:\n",
        "> statememts <br>\n",
        "##### else:\n",
        ">statements\n"
      ]
    },
    {
      "cell_type": "code",
      "metadata": {
        "id": "FZ3dAhejaSb_",
        "colab_type": "code",
        "colab": {}
      },
      "source": [
        ""
      ],
      "execution_count": 0,
      "outputs": []
    },
    {
      "cell_type": "markdown",
      "metadata": {
        "id": "7UID7MaHaUTL",
        "colab_type": "text"
      },
      "source": [
        "to check even or odd"
      ]
    },
    {
      "cell_type": "code",
      "metadata": {
        "id": "ySIsV608aYBM",
        "colab_type": "code",
        "outputId": "67a1c317-b3da-4622-d8b1-f033de08b560",
        "colab": {
          "base_uri": "https://localhost:8080/",
          "height": 50
        }
      },
      "source": [
        "n=int(input(\"enter a number\"))\n",
        "if  n%2 ==0:\n",
        "      print(\"even\")\n",
        "else:\n",
        "     print(\"odd\")\n"
      ],
      "execution_count": 0,
      "outputs": [
        {
          "output_type": "stream",
          "text": [
            "enter a number65\n",
            "odd\n"
          ],
          "name": "stdout"
        }
      ]
    },
    {
      "cell_type": "code",
      "metadata": {
        "id": "PRghsGzpdBMy",
        "colab_type": "code",
        "outputId": "b6b2ff76-7198-4015-ce14-d847c430f0d2",
        "colab": {
          "base_uri": "https://localhost:8080/",
          "height": 50
        }
      },
      "source": [
        "n=int(input(\"enter a no:\"))\n",
        "if n%3 == 0 and n%5 == 0:\n",
        "     print(\"yes\")\n",
        "else:\n",
        "      print(\"no\")    "
      ],
      "execution_count": 0,
      "outputs": [
        {
          "output_type": "stream",
          "text": [
            "enter a no:15\n",
            "yes\n"
          ],
          "name": "stdout"
        }
      ]
    },
    {
      "cell_type": "markdown",
      "metadata": {
        "id": "m4JVfNp9d8G0",
        "colab_type": "text"
      },
      "source": [
        "# if give number is positive ,negative or zero"
      ]
    },
    {
      "cell_type": "code",
      "metadata": {
        "id": "Zvnkkpo4eIRq",
        "colab_type": "code",
        "outputId": "19a8c1bb-ca79-42ca-e52b-20a8f2aa609c",
        "colab": {
          "base_uri": "https://localhost:8080/",
          "height": 50
        }
      },
      "source": [
        "n=int((input(\"enter a number\")))\n",
        "if n>0:\n",
        "    print(\"positive\")\n",
        "elif n<0:\n",
        "    print(\"negative\") \n",
        "else:    \n",
        "    print(\"zero\")      "
      ],
      "execution_count": 0,
      "outputs": [
        {
          "output_type": "stream",
          "text": [
            "enter a number21435\n",
            "positive\n"
          ],
          "name": "stdout"
        }
      ]
    },
    {
      "cell_type": "markdown",
      "metadata": {
        "id": "NuJDIv1ufv24",
        "colab_type": "text"
      },
      "source": [
        "##check the input is leap yr or not"
      ]
    },
    {
      "cell_type": "code",
      "metadata": {
        "id": "4waEcCANf6GI",
        "colab_type": "code",
        "outputId": "3764761b-e929-41d7-b196-bd6678681244",
        "colab": {
          "base_uri": "https://localhost:8080/",
          "height": 128
        }
      },
      "source": [
        "n=int(input(\"enter a value\")) \n",
        "if n%4==0:\n",
        "    print(\"leap year\")\n",
        " else:\n",
        "     print(\"not a leap year\")\n",
        "\n"
      ],
      "execution_count": 0,
      "outputs": [
        {
          "output_type": "error",
          "ename": "IndentationError",
          "evalue": "ignored",
          "traceback": [
            "\u001b[0;36m  File \u001b[0;32m\"<ipython-input-60-b275e30cb37c>\"\u001b[0;36m, line \u001b[0;32m4\u001b[0m\n\u001b[0;31m    else:\u001b[0m\n\u001b[0m         ^\u001b[0m\n\u001b[0;31mIndentationError\u001b[0m\u001b[0;31m:\u001b[0m unindent does not match any outer indentation level\n"
          ]
        }
      ]
    },
    {
      "cell_type": "code",
      "metadata": {
        "id": "DksV6rcHi95G",
        "colab_type": "code",
        "outputId": "22ba04f7-d17f-428c-fadd-036d90e81880",
        "colab": {
          "base_uri": "https://localhost:8080/",
          "height": 50
        }
      },
      "source": [
        "n= int(input(\"enter a number\"))\n",
        "i=1\n",
        "while i<= n:\n",
        "      print(i,end=\" \")\n",
        "      i=i+1"
      ],
      "execution_count": 0,
      "outputs": [
        {
          "output_type": "stream",
          "text": [
            "enter a number8\n",
            "1 2 3 4 5 6 7 8 "
          ],
          "name": "stdout"
        }
      ]
    },
    {
      "cell_type": "code",
      "metadata": {
        "id": "DnVgZ73Jdrq1",
        "colab_type": "code",
        "outputId": "62250df5-20c4-4786-e888-c2c4cc133693",
        "colab": {
          "base_uri": "https://localhost:8080/",
          "height": 50
        }
      },
      "source": [
        "n=int(input(\"enter a number\"))\n",
        "i=1\n",
        "s=0\n",
        "while i <=n:\n",
        "  if i%2 == 0:\n",
        "     s=s+1\n",
        "  i=i+1\n",
        "print(s)   \n"
      ],
      "execution_count": 0,
      "outputs": [
        {
          "output_type": "stream",
          "text": [
            "enter a number10\n",
            "5\n"
          ],
          "name": "stdout"
        }
      ]
    }
  ]
}